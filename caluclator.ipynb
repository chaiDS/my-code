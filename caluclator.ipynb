{
 "cells": [
  {
   "cell_type": "code",
   "execution_count": 4,
   "metadata": {},
   "outputs": [
    {
     "name": "stdout",
     "output_type": "stream",
     "text": [
      "n1:5\n",
      "n2:6\n",
      "enter code for  task:1\n",
      "11\n"
     ]
    }
   ],
   "source": [
    "n1 = int(input(\"n1:\"))\n",
    "n2 = int(input(\"n2:\"))\n",
    "logic = input(\"enter code for  task:\")\n",
    "if logic == \"1\":\n",
    "    result = n1+n2\n",
    "    print(result)\n",
    "elif logic == \"2\":\n",
    "    result = n1-n2\n",
    "    print(result)\n",
    "elif logic == \"3\":\n",
    "    result = n1*n2\n",
    "    print(result)\n",
    "elif logic == \"4\":\n",
    "    result = n1/n2\n",
    "    print(result)\n",
    "else:\n",
    "    print(\"logic is wrong\")\n",
    "    "
   ]
  },
  {
   "cell_type": "code",
   "execution_count": null,
   "metadata": {},
   "outputs": [],
   "source": []
  }
 ],
 "metadata": {
  "kernelspec": {
   "display_name": "Python 3",
   "language": "python",
   "name": "python3"
  },
  "language_info": {
   "codemirror_mode": {
    "name": "ipython",
    "version": 3
   },
   "file_extension": ".py",
   "mimetype": "text/x-python",
   "name": "python",
   "nbconvert_exporter": "python",
   "pygments_lexer": "ipython3",
   "version": "3.7.4"
  }
 },
 "nbformat": 4,
 "nbformat_minor": 2
}
