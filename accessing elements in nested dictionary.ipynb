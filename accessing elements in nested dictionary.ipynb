{
 "cells": [
  {
   "cell_type": "code",
   "execution_count": 3,
   "metadata": {},
   "outputs": [
    {
     "name": "stdout",
     "output_type": "stream",
     "text": [
      "the program shows the student profile for batch of april\n",
      "Mike\n",
      "80\n",
      "enter your name:chai\n",
      "ml marks:60\n",
      "dl marks66\n"
     ]
    },
    {
     "data": {
      "text/plain": [
       "{'april_batch': {'student': {'name': 'chai',\n",
       "   'marks': {'python': 80, 'maths': 70, 'ML': '60', 'DL': '66'}}}}"
      ]
     },
     "execution_count": 3,
     "metadata": {},
     "output_type": "execute_result"
    }
   ],
   "source": [
    "dict1 = { \"april_batch\":{ \"student\":{ \"name\":\"Mike\",\"marks\":{ \"python\":80,\"maths\":70}}}}\n",
    "\n",
    "print(\"the program shows the student profile for batch of april\")\n",
    "\n",
    "#access mike\n",
    "print(dict1[\"april_batch\"][\"student\"][\"name\"])\n",
    "\n",
    "#Acesss 80 \n",
    "print(dict1[\"april_batch\"][\"student\"][\"marks\"][\"python\"])\n",
    "\n",
    "#Change Mike to Your Name \n",
    "name1 = input(\"enter your name:\")\n",
    "dict1[\"april_batch\"][\"student\"][\"name\"] = name1\n",
    "\n",
    "ML_marks = input(\"ml marks:\")\n",
    "DL_marks = input(\"dl marks\")\n",
    "\n",
    " #add ML and DL inside marks\n",
    "dict1[\"april_batch\"][\"student\"][\"marks\"][\"ML\"] = ML_marks\n",
    "dict1[\"april_batch\"][\"student\"][\"marks\"][\"DL\"] = DL_marks\n",
    "\n",
    "dict1\n",
    "\n",
    "\n",
    "\n",
    "\n"
   ]
  },
  {
   "cell_type": "code",
   "execution_count": 3,
   "metadata": {},
   "outputs": [
    {
     "name": "stdout",
     "output_type": "stream",
     "text": [
      "physics\n"
     ]
    }
   ],
   "source": [
    "num = {'physics': 80, 'math': 90, 'chemistry': 86}\n",
    "print(list(num)[0])"
   ]
  },
  {
   "cell_type": "code",
   "execution_count": null,
   "metadata": {},
   "outputs": [],
   "source": []
  }
 ],
 "metadata": {
  "kernelspec": {
   "display_name": "Python 3",
   "language": "python",
   "name": "python3"
  },
  "language_info": {
   "codemirror_mode": {
    "name": "ipython",
    "version": 3
   },
   "file_extension": ".py",
   "mimetype": "text/x-python",
   "name": "python",
   "nbconvert_exporter": "python",
   "pygments_lexer": "ipython3",
   "version": "3.7.4"
  }
 },
 "nbformat": 4,
 "nbformat_minor": 2
}
