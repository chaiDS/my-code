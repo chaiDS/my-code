{
 "cells": [
  {
   "cell_type": "code",
   "execution_count": null,
   "metadata": {},
   "outputs": [],
   "source": [
    "#find the highest number in the list defined by user\n",
    "try:\n",
    "    #create a input for number of elements in list\n",
    "    n = int(input(\"number of elements in list:\"))\n",
    "    #create a list using map function\n",
    "    my_list = list(map(int,input(\"enter the elemnts:\").strip().split()))\n",
    "    using max function find the highest element in the list and print\n",
    "    print(\"the highest number is:\",max(my_list))\n",
    "except:\n",
    "    print(\"error message:invalid input\")\n",
    "finally:\n",
    "    print(\"end the program\")\n"
   ]
  },
  {
   "cell_type": "code",
   "execution_count": null,
   "metadata": {},
   "outputs": [],
   "source": []
  }
 ],
 "metadata": {
  "kernelspec": {
   "display_name": "Python 3",
   "language": "python",
   "name": "python3"
  },
  "language_info": {
   "codemirror_mode": {
    "name": "ipython",
    "version": 3
   },
   "file_extension": ".py",
   "mimetype": "text/x-python",
   "name": "python",
   "nbconvert_exporter": "python",
   "pygments_lexer": "ipython3",
   "version": "3.7.4"
  }
 },
 "nbformat": 4,
 "nbformat_minor": 2
}
