{
 "cells": [
  {
   "cell_type": "code",
   "execution_count": 6,
   "metadata": {},
   "outputs": [],
   "source": [
    "#lambda argument_list : expression\n",
    "#By using Lambda Functions we can write very concise code so that readability of\n",
    "#the program will be improved."
   ]
  },
  {
   "cell_type": "code",
   "execution_count": 8,
   "metadata": {},
   "outputs": [
    {
     "name": "stdout",
     "output_type": "stream",
     "text": [
      "5\n",
      "25\n"
     ]
    }
   ],
   "source": [
    "n = int(input())\n",
    "square = lambda n:n**2\n",
    "print(square(n))"
   ]
  },
  {
   "cell_type": "code",
   "execution_count": 15,
   "metadata": {},
   "outputs": [
    {
     "name": "stdout",
     "output_type": "stream",
     "text": [
      "5\n",
      "6\n",
      "7\n",
      "the sum is: 18\n"
     ]
    }
   ],
   "source": [
    "#Lambda functions can have any number of arguments but only one expression.\n",
    "x = int(input())\n",
    "y = int(input())\n",
    "z = int(input())\n",
    "sum = lambda x,y,z: x+y+z\n",
    "print(\"the sum is:\", sum(x,y,z))"
   ]
  },
  {
   "cell_type": "code",
   "execution_count": 17,
   "metadata": {},
   "outputs": [
    {
     "name": "stdout",
     "output_type": "stream",
     "text": [
      "5\n",
      "6\n",
      "False\n"
     ]
    }
   ],
   "source": [
    "#lambda with if condition\n",
    "x = int(input())\n",
    "y = int(input())\n",
    "fn = lambda x,y: True if x>y else False\n",
    "print(fn(x,y))"
   ]
  },
  {
   "cell_type": "code",
   "execution_count": 5,
   "metadata": {},
   "outputs": [
    {
     "name": "stdout",
     "output_type": "stream",
     "text": [
      "6\n",
      "enter the elements in list:1 2 3 4 5 6\n",
      "[2, 4, 6]\n"
     ]
    }
   ],
   "source": [
    "#lambda with filter\n",
    "string = int(input())\n",
    "a = list(map(int, input(\"enter the elements in list:\").split()))\n",
    "formula = filter(lambda x : x%2 ==0, a)\n",
    "print(list(formula))\n"
   ]
  },
  {
   "cell_type": "code",
   "execution_count": 24,
   "metadata": {},
   "outputs": [
    {
     "data": {
      "text/plain": [
       "['GOAT', 'TIGER', 'CHAI']"
      ]
     },
     "execution_count": 24,
     "metadata": {},
     "output_type": "execute_result"
    }
   ],
   "source": [
    "#lambda with map\n",
    "animals= ['goat', 'tiger', 'chai']\n",
    "list1=list(map(lambda x: str.upper(x), animals))\n",
    "list1"
   ]
  },
  {
   "cell_type": "code",
   "execution_count": 22,
   "metadata": {},
   "outputs": [
    {
     "data": {
      "text/plain": [
       "['GOAT', 'TIGER']"
      ]
     },
     "execution_count": 22,
     "metadata": {},
     "output_type": "execute_result"
    }
   ],
   "source": [
    "animals = ['goat', 'tiger']\n",
    "list1 = list(map(lambda animal:str.upper(animal), animals))\n",
    "list1"
   ]
  },
  {
   "cell_type": "code",
   "execution_count": null,
   "metadata": {},
   "outputs": [],
   "source": []
  }
 ],
 "metadata": {
  "kernelspec": {
   "display_name": "Python 3",
   "language": "python",
   "name": "python3"
  },
  "language_info": {
   "codemirror_mode": {
    "name": "ipython",
    "version": 3
   },
   "file_extension": ".py",
   "mimetype": "text/x-python",
   "name": "python",
   "nbconvert_exporter": "python",
   "pygments_lexer": "ipython3",
   "version": "3.7.4"
  }
 },
 "nbformat": 4,
 "nbformat_minor": 2
}
