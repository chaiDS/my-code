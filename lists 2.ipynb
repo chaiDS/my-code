{
 "cells": [
  {
   "cell_type": "code",
   "execution_count": 6,
   "metadata": {},
   "outputs": [
    {
     "name": "stdout",
     "output_type": "stream",
     "text": [
      "number of elements:5\n",
      "enter the numbers:2 4 6 5 12\n",
      "even are: [2, 4, 6, 12]\n"
     ]
    }
   ],
   "source": [
    "n = int(input(\"number of elements:\"))\n",
    "a = list(map(int, input(\"enter the numbers:\").strip().split()))\n",
    "mylist = []\n",
    "for i in a:\n",
    "    if i%2==0:\n",
    "        mylist.append(i)\n",
    "print(\"even are:\", mylist)"
   ]
  },
  {
   "cell_type": "code",
   "execution_count": 1,
   "metadata": {},
   "outputs": [
    {
     "name": "stdout",
     "output_type": "stream",
     "text": [
      "chai\n",
      "the position of c is at 0,\n",
      "the position of h is at 1,\n",
      "the position of a is at 2,\n",
      "the position of i is at 3,\n"
     ]
    }
   ],
   "source": [
    "string = input(\"\")\n",
    "i = 0\n",
    "for x in string:\n",
    "    print(\"the position of {} is at {},\".format(x, i))\n",
    "    i = i+1\n",
    "\n"
   ]
  },
  {
   "cell_type": "code",
   "execution_count": 2,
   "metadata": {},
   "outputs": [
    {
     "name": "stdout",
     "output_type": "stream",
     "text": [
      "2\n",
      "enter the elements,2 4\n",
      "the position of 2 is at 0,\n",
      "the position of 4 is at 1,\n"
     ]
    }
   ],
   "source": [
    "n= int(input())\n",
    "mylist = list(map(int, input(\"enter the elements,\").strip().split()))\n",
    "i = 0\n",
    "for x in mylist:\n",
    "    print(\"the position of {} is at {},\".format(x, i))\n",
    "    i = i+1\n",
    "          "
   ]
  },
  {
   "cell_type": "code",
   "execution_count": null,
   "metadata": {},
   "outputs": [],
   "source": [
    "#count\n",
    "\n",
    "\n"
   ]
  },
  {
   "cell_type": "code",
   "execution_count": 1,
   "metadata": {},
   "outputs": [
    {
     "name": "stdout",
     "output_type": "stream",
     "text": [
      "2\n",
      "2\n"
     ]
    }
   ],
   "source": [
    "list = [1, 2, 3, 5, 5, 6,]\n",
    "print(list.count(5))"
   ]
  },
  {
   "cell_type": "code",
   "execution_count": 2,
   "metadata": {},
   "outputs": [
    {
     "name": "stdout",
     "output_type": "stream",
     "text": [
      "2\n",
      "2\n"
     ]
    }
   ],
   "source": [
    "x = 'chhaai' #string\n",
    "print(x.count('a'))  #string\n",
    "\n"
   ]
  },
  {
   "cell_type": "code",
   "execution_count": 3,
   "metadata": {},
   "outputs": [
    {
     "name": "stdout",
     "output_type": "stream",
     "text": [
      "3\n",
      "3\n"
     ]
    }
   ],
   "source": [
    "#index\n",
    "print(x.index('a'))  #string"
   ]
  },
  {
   "cell_type": "code",
   "execution_count": 5,
   "metadata": {},
   "outputs": [
    {
     "name": "stdout",
     "output_type": "stream",
     "text": [
      "3\n",
      "3\n"
     ]
    }
   ],
   "source": [
    "print(list.index(5))"
   ]
  },
  {
   "cell_type": "code",
   "execution_count": 8,
   "metadata": {},
   "outputs": [
    {
     "data": {
      "text/plain": [
       "[1, 2, 3, 4]"
      ]
     },
     "execution_count": 8,
     "metadata": {},
     "output_type": "execute_result"
    },
    {
     "data": {
      "text/plain": [
       "[1, 2, 3, 4]"
      ]
     },
     "execution_count": 8,
     "metadata": {},
     "output_type": "execute_result"
    }
   ],
   "source": [
    "#append\n",
    "list = [1,2,3]\n",
    "list.append(4)\n",
    "list"
   ]
  },
  {
   "cell_type": "code",
   "execution_count": 8,
   "metadata": {},
   "outputs": [
    {
     "name": "stdout",
     "output_type": "stream",
     "text": [
      "[0, 10, 20, 30, 40, 50, 60, 70, 80, 90]\n"
     ]
    }
   ],
   "source": [
    "#To add all elements to list upto 100 which are divisible by 10\n",
    "i = 1\n",
    "list =[]\n",
    "for i in range(0,100):\n",
    "    if i%10==0:\n",
    "            list.append(i)\n",
    "print(list)\n",
    "        \n",
    "    \n",
    "    \n",
    "    \n",
    "    \n"
   ]
  },
  {
   "cell_type": "code",
   "execution_count": 9,
   "metadata": {},
   "outputs": [
    {
     "data": {
      "text/plain": [
       "[1, 2, 3, 4, 5, 6]"
      ]
     },
     "execution_count": 9,
     "metadata": {},
     "output_type": "execute_result"
    }
   ],
   "source": [
    "#insert vs append\n",
    "list = [1,2,3,4,5]\n",
    "list.append(6)\n",
    "list"
   ]
  },
  {
   "cell_type": "code",
   "execution_count": 11,
   "metadata": {},
   "outputs": [
    {
     "data": {
      "text/plain": [
       "[1, 2, 3, 4, 5, 6]"
      ]
     },
     "execution_count": 11,
     "metadata": {},
     "output_type": "execute_result"
    }
   ],
   "source": [
    "#append\n",
    "list = [1,2,3,4,5]\n",
    "list.insert(5,6) #list.insert(index, element)\n",
    "list\n"
   ]
  },
  {
   "cell_type": "code",
   "execution_count": 13,
   "metadata": {},
   "outputs": [
    {
     "data": {
      "text/plain": [
       "['hi', 'my', 'name', 'is', 'chai']"
      ]
     },
     "execution_count": 13,
     "metadata": {},
     "output_type": "execute_result"
    }
   ],
   "source": [
    "#extend\n",
    "list1 = ['hi', 'my', 'name']\n",
    "list2 = ['is', 'chai']\n",
    "list1.extend(list2)\n",
    "list1"
   ]
  },
  {
   "cell_type": "code",
   "execution_count": 14,
   "metadata": {},
   "outputs": [
    {
     "data": {
      "text/plain": [
       "['hi',\n",
       " 'my',\n",
       " 'name',\n",
       " 'is',\n",
       " 'chai',\n",
       " 'i',\n",
       " 'm',\n",
       " ' ',\n",
       " 'l',\n",
       " 'e',\n",
       " 'a',\n",
       " 'r',\n",
       " 'n',\n",
       " 'i',\n",
       " 'n',\n",
       " 'g',\n",
       " ' ',\n",
       " 'p',\n",
       " 'y',\n",
       " 't',\n",
       " 'h',\n",
       " 'o',\n",
       " 'n']"
      ]
     },
     "execution_count": 14,
     "metadata": {},
     "output_type": "execute_result"
    }
   ],
   "source": [
    "#extend for list to string\n",
    "list1.extend(\"im learning python\")\n",
    "list1"
   ]
  },
  {
   "cell_type": "code",
   "execution_count": 17,
   "metadata": {},
   "outputs": [
    {
     "data": {
      "text/plain": [
       "[10, 30]"
      ]
     },
     "execution_count": 17,
     "metadata": {},
     "output_type": "execute_result"
    }
   ],
   "source": [
    "#remove -- used to remove special element from list, it cant return removed element\n",
    "list = [10,20,30]\n",
    "list.remove(20)\n",
    "list"
   ]
  },
  {
   "cell_type": "code",
   "execution_count": 18,
   "metadata": {},
   "outputs": [
    {
     "data": {
      "text/plain": [
       "30"
      ]
     },
     "execution_count": 18,
     "metadata": {},
     "output_type": "execute_result"
    }
   ],
   "source": [
    "#pop -- used to remove special element from list, it return removed element\n",
    "list = [10,20,30]\n",
    "list.pop()"
   ]
  },
  {
   "cell_type": "code",
   "execution_count": 19,
   "metadata": {},
   "outputs": [
    {
     "data": {
      "text/plain": [
       "20"
      ]
     },
     "execution_count": 19,
     "metadata": {},
     "output_type": "execute_result"
    }
   ],
   "source": [
    "list = [10,20,30]\n",
    "list.pop(1)"
   ]
  },
  {
   "cell_type": "code",
   "execution_count": 20,
   "metadata": {},
   "outputs": [],
   "source": [
    "#append #insert #extend #remove #pop"
   ]
  },
  {
   "cell_type": "markdown",
   "metadata": {},
   "source": [
    "# Ordering elements of List:"
   ]
  },
  {
   "cell_type": "code",
   "execution_count": 15,
   "metadata": {},
   "outputs": [
    {
     "name": "stdout",
     "output_type": "stream",
     "text": [
      "no. of elements3\n",
      "enter the elements1 5 9\n",
      "[1, 5, 9]\n",
      "[9, 5, 1]\n",
      "[1, 5, 9]\n",
      "[9, 5, 1]\n"
     ]
    }
   ],
   "source": [
    "#reverse\n",
    "n= int(input(\"no. of elements\"))\n",
    "a = list(map(int,input(\"enter the elements\").strip().split()))\n",
    "print(a)\n",
    "a.reverse()\n",
    "print(a)\n",
    "print(sorted(a))\n",
    "\n",
    "print(sorted(a, reverse = True))"
   ]
  },
  {
   "cell_type": "code",
   "execution_count": 5,
   "metadata": {},
   "outputs": [
    {
     "name": "stdout",
     "output_type": "stream",
     "text": [
      "2051657616648\n",
      "2051657616648\n"
     ]
    }
   ],
   "source": [
    "#The process of giving another reference variable to the existing list is called aliasing\n",
    "x = [1,3,5,7,9]\n",
    "y = x\n",
    "print(id(x))\n",
    "print(id(y))\n"
   ]
  },
  {
   "cell_type": "code",
   "execution_count": 7,
   "metadata": {},
   "outputs": [
    {
     "name": "stdout",
     "output_type": "stream",
     "text": [
      "[1, 333, 5, 7, 9]\n"
     ]
    }
   ],
   "source": [
    "#the problem in aliasing is if we are changing content, then those changes will be reflected to other reference variable\n",
    "x\n",
    "y = x\n",
    "y[1] = 333\n",
    "print(x)\n",
    "# changes in y had occured in x too"
   ]
  },
  {
   "cell_type": "code",
   "execution_count": 9,
   "metadata": {},
   "outputs": [
    {
     "name": "stdout",
     "output_type": "stream",
     "text": [
      "[1, 3, 5, 7, 9]\n",
      "[1, 333, 5, 7, 9]\n"
     ]
    }
   ],
   "source": [
    "# to avoid this go for cloning\n",
    "# cloning: The process of creating exactly duplicate independent object\n",
    "\n",
    "x = [1,3,5,7,9]\n",
    "#  cloning using slice function\n",
    "y = x[:]\n",
    "y[1] = 333\n",
    "print(x)\n",
    "print(y)\n",
    "\n"
   ]
  },
  {
   "cell_type": "code",
   "execution_count": 10,
   "metadata": {},
   "outputs": [
    {
     "name": "stdout",
     "output_type": "stream",
     "text": [
      "[1, 3, 5, 7, 9]\n",
      "[1, 333, 5, 7, 9]\n"
     ]
    }
   ],
   "source": [
    "#cloning using code\n",
    "x = [1,3,5,7,9]\n",
    "y = x.copy()\n",
    "y[1]=333\n",
    "print(x)\n",
    "print(y)"
   ]
  },
  {
   "cell_type": "code",
   "execution_count": 12,
   "metadata": {},
   "outputs": [
    {
     "data": {
      "text/plain": [
       "[[1, 2, 5], [8, 9, 10]]"
      ]
     },
     "execution_count": 12,
     "metadata": {},
     "output_type": "execute_result"
    }
   ],
   "source": [
    "#Using Mathematical operators for List Objects:\n",
    "#concatentation operator() # used for both lists\n",
    "a = [1, 2, 5]\n",
    "b = [8, 9, 10]\n",
    "c = [a]+ [b]\n",
    "c"
   ]
  },
  {
   "cell_type": "code",
   "execution_count": 14,
   "metadata": {},
   "outputs": [
    {
     "data": {
      "text/plain": [
       "[1, 2, 5, 1, 2, 5, 1, 2, 5]"
      ]
     },
     "execution_count": 14,
     "metadata": {},
     "output_type": "execute_result"
    }
   ],
   "source": [
    "#repetition  operator()\n",
    "a*3\n",
    "\n"
   ]
  },
  {
   "cell_type": "code",
   "execution_count": 1,
   "metadata": {},
   "outputs": [],
   "source": [
    "# membership operator\n"
   ]
  },
  {
   "cell_type": "code",
   "execution_count": 3,
   "metadata": {},
   "outputs": [
    {
     "name": "stdout",
     "output_type": "stream",
     "text": [
      "True\n"
     ]
    }
   ],
   "source": [
    "#Using Mathematical operators for List Objects:\n",
    "a = [1, 2, 5]\n",
    "print(5 in a)\n",
    "\n"
   ]
  },
  {
   "cell_type": "markdown",
   "metadata": {},
   "source": [
    "# list comprehession"
   ]
  },
  {
   "cell_type": "code",
   "execution_count": 1,
   "metadata": {},
   "outputs": [],
   "source": [
    "#list=[expression for item in list if condition]\n",
    "# It is very easy and compact way of creating list objects from any iterable objects(like\n",
    "#list,tuple,dictionary,range etc) based on some condition."
   ]
  },
  {
   "cell_type": "code",
   "execution_count": 3,
   "metadata": {},
   "outputs": [
    {
     "name": "stdout",
     "output_type": "stream",
     "text": [
      "[0, 1, 8, 27, 64, 125, 216, 343, 512, 729, 1000]\n"
     ]
    }
   ],
   "source": [
    "l = [x**3 for x in range(0,11)]\n",
    "print(l)"
   ]
  },
  {
   "cell_type": "code",
   "execution_count": 5,
   "metadata": {},
   "outputs": [
    {
     "name": "stdout",
     "output_type": "stream",
     "text": [
      "[0, 2, 4, 6, 8, 10, 12, 14, 16]\n"
     ]
    }
   ],
   "source": [
    "a = [x*2 for x in range(0,9)]\n",
    "print(a)"
   ]
  },
  {
   "cell_type": "code",
   "execution_count": 16,
   "metadata": {},
   "outputs": [
    {
     "data": {
      "text/plain": [
       "['m', 'n', 'i', 'c']"
      ]
     },
     "execution_count": 16,
     "metadata": {},
     "output_type": "execute_result"
    }
   ],
   "source": [
    "string = \"my name is chai\"\n",
    "words = string.split()\n",
    "l = [x[0] for x in words]\n",
    "l\n",
    "\n",
    "\n"
   ]
  },
  {
   "cell_type": "code",
   "execution_count": 18,
   "metadata": {},
   "outputs": [
    {
     "data": {
      "text/plain": [
       "[1, 2, 4]"
      ]
     },
     "execution_count": 18,
     "metadata": {},
     "output_type": "execute_result"
    }
   ],
   "source": [
    "num1 = [1, 2, 3, 4, 5]\n",
    "num2 = [3, 5, 6]\n",
    "num3 = [x for x in num1 if x not in num2]\n",
    "num3"
   ]
  },
  {
   "cell_type": "code",
   "execution_count": 20,
   "metadata": {},
   "outputs": [
    {
     "data": {
      "text/plain": [
       "[3, 5]"
      ]
     },
     "execution_count": 20,
     "metadata": {},
     "output_type": "execute_result"
    }
   ],
   "source": [
    "num4 = [x for x in num1 if x in num2]\n",
    "num4"
   ]
  },
  {
   "cell_type": "code",
   "execution_count": 17,
   "metadata": {},
   "outputs": [
    {
     "name": "stdout",
     "output_type": "stream",
     "text": [
      "enter the word to search:chaitanya\n",
      "['a', 'i']\n"
     ]
    }
   ],
   "source": [
    "vowels =  ['a', 'e', 'i', 'o', 'u']\n",
    "list1 = []\n",
    "given_word = input(\"enter the word to search:\")\n",
    "for x in given_word:\n",
    "    if x in vowels:\n",
    "        if x not in list1:\n",
    "            list1.append(x)\n",
    "print(list1)\n",
    "\n",
    "\n"
   ]
  },
  {
   "cell_type": "markdown",
   "metadata": {},
   "source": [
    "# Syntax of lambda Function:\n"
   ]
  },
  {
   "cell_type": "code",
   "execution_count": null,
   "metadata": {},
   "outputs": [],
   "source": [
    "#lambda argument_list : expression\n",
    "#By using Lambda Functions we can write very concise code so that readability of\n",
    "#the program will be improved."
   ]
  },
  {
   "cell_type": "code",
   "execution_count": null,
   "metadata": {},
   "outputs": [],
   "source": [
    "n= int(input())\n",
    "square = lambda n:n**2\n",
    "print(square(n))\n"
   ]
  },
  {
   "cell_type": "code",
   "execution_count": null,
   "metadata": {},
   "outputs": [],
   "source": []
  },
  {
   "cell_type": "code",
   "execution_count": null,
   "metadata": {},
   "outputs": [],
   "source": []
  },
  {
   "cell_type": "code",
   "execution_count": null,
   "metadata": {},
   "outputs": [],
   "source": []
  }
 ],
 "metadata": {
  "kernelspec": {
   "display_name": "Python 3",
   "language": "python",
   "name": "python3"
  },
  "language_info": {
   "codemirror_mode": {
    "name": "ipython",
    "version": 3
   },
   "file_extension": ".py",
   "mimetype": "text/x-python",
   "name": "python",
   "nbconvert_exporter": "python",
   "pygments_lexer": "ipython3",
   "version": "3.7.4"
  }
 },
 "nbformat": 4,
 "nbformat_minor": 2
}
